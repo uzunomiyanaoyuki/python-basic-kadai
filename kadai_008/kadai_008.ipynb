{
  "nbformat": 4,
  "nbformat_minor": 0,
  "metadata": {
    "colab": {
      "provenance": []
    },
    "kernelspec": {
      "name": "python3",
      "display_name": "Python 3"
    },
    "language_info": {
      "name": "python"
    }
  },
  "cells": [
    {
      "cell_type": "code",
      "execution_count": 53,
      "metadata": {
        "colab": {
          "base_uri": "https://localhost:8080/"
        },
        "id": "a7-IjXmMQa0u",
        "outputId": "f87bcb55-3b2d-4f88-8463-5f810da5eec1"
      },
      "outputs": [
        {
          "output_type": "stream",
          "name": "stdout",
          "text": [
            "ランダムな数値は10\n",
            "Buzz5の倍数です\n"
          ]
        }
      ],
      "source": [
        "import random\n",
        "\n",
        "var = random.randint(10,15)\n",
        "\n",
        "print(\"ランダムな数値は\" + str(var))\n",
        "\n",
        "if var % 15 == 0:\n",
        "    print(\"FizzBuzz\" + \"3かつ5の倍数です\")\n",
        "\n",
        "elif var % 3 == 0:\n",
        "    print(\"Fizz\" + \"3の倍数です\")\n",
        "\n",
        "elif var % 5 == 0:\n",
        "    print(\"Buzz\" + \"5の倍数です\")\n",
        "\n",
        "else:\n",
        "    print(str(var) + \"は、上記のどの場合にも該当しない\")\n",
        "\n",
        "\n"
      ]
    },
    {
      "cell_type": "code",
      "source": [],
      "metadata": {
        "id": "kJ5jjMg8RV7j"
      },
      "execution_count": null,
      "outputs": []
    }
  ]
}