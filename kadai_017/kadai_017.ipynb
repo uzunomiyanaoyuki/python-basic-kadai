{
  "nbformat": 4,
  "nbformat_minor": 0,
  "metadata": {
    "colab": {
      "provenance": []
    },
    "kernelspec": {
      "name": "python3",
      "display_name": "Python 3"
    },
    "language_info": {
      "name": "python"
    }
  },
  "cells": [
    {
      "cell_type": "code",
      "execution_count": 1,
      "metadata": {
        "colab": {
          "base_uri": "https://localhost:8080/"
        },
        "id": "7KhgDOmw23SM",
        "outputId": "f8937113-4740-4ec6-b253-41a2492c3eb6"
      },
      "outputs": [
        {
          "output_type": "stream",
          "name": "stdout",
          "text": [
            "私は太郎です。25歳で大人です。\n",
            "私は二郎です。23歳で大人です。\n",
            "私は三郎です。21歳で大人です。\n",
            "私は四郎です。19歳で大人ではありません。\n",
            "私は五郎です。15歳で大人ではありません。\n"
          ]
        }
      ],
      "source": [
        "\n",
        "human_list =[]\n",
        "class Human:\n",
        "    def __init__(self, name, age):\n",
        "        self.name = name\n",
        "        self.age = age\n",
        "    def check_adult(self):\n",
        "        if self.age >= 20:\n",
        "            print(f\"私は{self.name}です。{self.age}歳で大人です。\")\n",
        "        else:\n",
        "            print(f\"私は{self.name}です。{self.age}歳で大人ではありません。\")\n",
        "\n",
        "human1 = Human(\"太郎\", 25)\n",
        "human_list.append(human1)\n",
        "\n",
        "human2 = Human(\"二郎\", 23)\n",
        "human_list.append(human2)\n",
        "\n",
        "human3 = Human(\"三郎\", 21)\n",
        "human_list.append(human3)\n",
        "\n",
        "human4 = Human(\"四郎\", 19)\n",
        "human_list.append(human4)\n",
        "\n",
        "human5 = Human(\"五郎\", 15)\n",
        "human_list.append(human5)\n",
        "\n",
        "for i in range(len(human_list)):\n",
        "    human_list[i].check_adult()\n"
      ]
    }
  ]
}