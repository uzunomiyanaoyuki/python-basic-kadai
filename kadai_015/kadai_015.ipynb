{
  "cells": [
    {
      "cell_type": "code",
      "execution_count": 23,
      "metadata": {
        "colab": {
          "base_uri": "https://localhost:8080/",
          "height": 211
        },
        "id": "ZFqeDWUojQ83",
        "outputId": "261e4803-e154-4d05-a300-7e31cc8d13bb"
      },
      "outputs": [
        {
          "name": "stdout",
          "output_type": "stream",
          "text": [
            "佐藤 30\n"
          ]
        }
      ],
      "source": [
        "class Human:\n",
        "    def __init__(self,name,age):\n",
        "      #　init　イニシャライザはこのクラスのオブジェクトが作られる。initは最初に使い、意味は”属性を定義する”です。\n",
        "      self.name = name\n",
        "      self.age = age\n",
        "    def set(self,name,age):\n",
        "      self.name = name\n",
        "      self.age = age\n",
        "    def printinfo(self):\n",
        "      print(self.name,self.age)\n",
        "\n",
        "sato = Human(\"佐藤\",30)#インスタンス化している\n",
        "sato.printinfo()#メソッド（printinfo関数）にアクセスしてを呼び出す。\n"
      ]
    },
    {
      "cell_type": "code",
      "execution_count": null,
      "metadata": {
        "id": "g6-ELXk9m_4g"
      },
      "outputs": [],
      "source": []
    }
  ],
  "metadata": {
    "colab": {
      "provenance": []
    },
    "kernelspec": {
      "display_name": "Python 3",
      "name": "python3"
    },
    "language_info": {
      "codemirror_mode": {
        "name": "ipython",
        "version": 3
      },
      "file_extension": ".py",
      "mimetype": "text/x-python",
      "name": "python",
      "nbconvert_exporter": "python",
      "pygments_lexer": "ipython3",
      "version": "3.12.2"
    }
  },
  "nbformat": 4,
  "nbformat_minor": 0
}
