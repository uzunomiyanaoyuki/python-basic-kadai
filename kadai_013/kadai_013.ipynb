{
  "nbformat": 4,
  "nbformat_minor": 0,
  "metadata": {
    "colab": {
      "provenance": []
    },
    "kernelspec": {
      "name": "python3",
      "display_name": "Python 3"
    },
    "language_info": {
      "name": "python"
    }
  },
  "cells": [
    {
      "cell_type": "code",
      "execution_count": 8,
      "metadata": {
        "colab": {
          "base_uri": "https://localhost:8080/"
        },
        "id": "B6RtJ9Jjavsm",
        "outputId": "642d38c7-3c81-4099-99a0-f0d6e3cc8495"
      },
      "outputs": [
        {
          "output_type": "stream",
          "name": "stdout",
          "text": [
            "1320.0円\n"
          ]
        }
      ],
      "source": [
        "def calculate_total(price,shipping_fee):\n",
        "    total =price + price / shipping_fee\n",
        "\n",
        "    print(f\"{total}円\")\n",
        "\n",
        "calculate_total(1200,10)\n",
        "\n"
      ]
    },
    {
      "cell_type": "code",
      "source": [],
      "metadata": {
        "id": "Qrfpsfd5cNPb"
      },
      "execution_count": null,
      "outputs": []
    }
  ]
}